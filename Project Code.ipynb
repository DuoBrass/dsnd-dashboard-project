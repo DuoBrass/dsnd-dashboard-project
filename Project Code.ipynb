{
 "cells": [
  {
   "cell_type": "code",
   "execution_count": 5,
   "id": "282dbaad-c275-4776-b340-d7df7c76e1bf",
   "metadata": {},
   "outputs": [
    {
     "name": "stdout",
     "output_type": "stream",
     "text": [
      "Requirement already satisfied: python-fasthtml in c:\\users\\sebbr\\anaconda3\\lib\\site-packages (0.12.14)\n",
      "Requirement already satisfied: fastcore>=1.8.1 in c:\\users\\sebbr\\anaconda3\\lib\\site-packages (from python-fasthtml) (1.8.1)\n",
      "Requirement already satisfied: python-dateutil in c:\\users\\sebbr\\anaconda3\\lib\\site-packages (from python-fasthtml) (2.9.0.post0)\n",
      "Requirement already satisfied: starlette>0.33 in c:\\users\\sebbr\\anaconda3\\lib\\site-packages (from python-fasthtml) (0.46.2)\n",
      "Requirement already satisfied: oauthlib in c:\\users\\sebbr\\anaconda3\\lib\\site-packages (from python-fasthtml) (3.2.2)\n",
      "Requirement already satisfied: itsdangerous in c:\\users\\sebbr\\anaconda3\\lib\\site-packages (from python-fasthtml) (2.2.0)\n",
      "Requirement already satisfied: uvicorn>=0.30 in c:\\users\\sebbr\\anaconda3\\lib\\site-packages (from uvicorn[standard]>=0.30->python-fasthtml) (0.34.2)\n",
      "Requirement already satisfied: httpx in c:\\users\\sebbr\\anaconda3\\lib\\site-packages (from python-fasthtml) (0.27.0)\n",
      "Requirement already satisfied: fastlite>=0.1.1 in c:\\users\\sebbr\\anaconda3\\lib\\site-packages (from python-fasthtml) (0.1.3)\n",
      "Requirement already satisfied: python-multipart in c:\\users\\sebbr\\anaconda3\\lib\\site-packages (from python-fasthtml) (0.0.20)\n",
      "Requirement already satisfied: beautifulsoup4 in c:\\users\\sebbr\\anaconda3\\lib\\site-packages (from python-fasthtml) (4.12.3)\n",
      "Requirement already satisfied: packaging in c:\\users\\sebbr\\anaconda3\\lib\\site-packages (from fastcore>=1.8.1->python-fasthtml) (24.1)\n",
      "Requirement already satisfied: apswutils>=0.0.2 in c:\\users\\sebbr\\anaconda3\\lib\\site-packages (from fastlite>=0.1.1->python-fasthtml) (0.0.2)\n",
      "Requirement already satisfied: anyio<5,>=3.6.2 in c:\\users\\sebbr\\anaconda3\\lib\\site-packages (from starlette>0.33->python-fasthtml) (4.2.0)\n",
      "Requirement already satisfied: click>=7.0 in c:\\users\\sebbr\\anaconda3\\lib\\site-packages (from uvicorn>=0.30->uvicorn[standard]>=0.30->python-fasthtml) (8.1.7)\n",
      "Requirement already satisfied: h11>=0.8 in c:\\users\\sebbr\\anaconda3\\lib\\site-packages (from uvicorn>=0.30->uvicorn[standard]>=0.30->python-fasthtml) (0.14.0)\n",
      "Requirement already satisfied: colorama>=0.4 in c:\\users\\sebbr\\anaconda3\\lib\\site-packages (from uvicorn[standard]>=0.30->python-fasthtml) (0.4.6)\n",
      "Requirement already satisfied: httptools>=0.6.3 in c:\\users\\sebbr\\anaconda3\\lib\\site-packages (from uvicorn[standard]>=0.30->python-fasthtml) (0.6.4)\n",
      "Requirement already satisfied: python-dotenv>=0.13 in c:\\users\\sebbr\\anaconda3\\lib\\site-packages (from uvicorn[standard]>=0.30->python-fasthtml) (0.21.0)\n",
      "Requirement already satisfied: pyyaml>=5.1 in c:\\users\\sebbr\\anaconda3\\lib\\site-packages (from uvicorn[standard]>=0.30->python-fasthtml) (6.0.1)\n",
      "Requirement already satisfied: watchfiles>=0.13 in c:\\users\\sebbr\\anaconda3\\lib\\site-packages (from uvicorn[standard]>=0.30->python-fasthtml) (1.0.5)\n",
      "Requirement already satisfied: websockets>=10.4 in c:\\users\\sebbr\\anaconda3\\lib\\site-packages (from uvicorn[standard]>=0.30->python-fasthtml) (15.0.1)\n",
      "Requirement already satisfied: soupsieve>1.2 in c:\\users\\sebbr\\anaconda3\\lib\\site-packages (from beautifulsoup4->python-fasthtml) (2.5)\n",
      "Requirement already satisfied: certifi in c:\\users\\sebbr\\anaconda3\\lib\\site-packages (from httpx->python-fasthtml) (2025.1.31)\n",
      "Requirement already satisfied: httpcore==1.* in c:\\users\\sebbr\\anaconda3\\lib\\site-packages (from httpx->python-fasthtml) (1.0.2)\n",
      "Requirement already satisfied: idna in c:\\users\\sebbr\\anaconda3\\lib\\site-packages (from httpx->python-fasthtml) (3.7)\n",
      "Requirement already satisfied: sniffio in c:\\users\\sebbr\\anaconda3\\lib\\site-packages (from httpx->python-fasthtml) (1.3.0)\n",
      "Requirement already satisfied: six>=1.5 in c:\\users\\sebbr\\anaconda3\\lib\\site-packages (from python-dateutil->python-fasthtml) (1.16.0)\n",
      "Requirement already satisfied: apsw in c:\\users\\sebbr\\anaconda3\\lib\\site-packages (from apswutils>=0.0.2->fastlite>=0.1.1->python-fasthtml) (3.49.1.0)\n",
      "Note: you may need to restart the kernel to use updated packages.\n"
     ]
    }
   ],
   "source": [
    "pip install python-fasthtml"
   ]
  },
  {
   "cell_type": "code",
   "execution_count": 7,
   "id": "a92e0231-f1ab-49c4-9afd-58ad27df8cb3",
   "metadata": {},
   "outputs": [
    {
     "name": "stdout",
     "output_type": "stream",
     "text": [
      "Requirement already satisfied: pandas in c:\\users\\sebbr\\anaconda3\\lib\\site-packages (2.2.2)\n",
      "Note: you may need to restart the kernel to use updated packages.\n"
     ]
    },
    {
     "name": "stderr",
     "output_type": "stream",
     "text": [
      "ERROR: Could not find a version that satisfies the requirement as (from versions: none)\n",
      "ERROR: No matching distribution found for as\n"
     ]
    }
   ],
   "source": []
  }
 ],
 "metadata": {
  "kernelspec": {
   "display_name": "Python [conda env:base] *",
   "language": "python",
   "name": "conda-base-py"
  },
  "language_info": {
   "codemirror_mode": {
    "name": "ipython",
    "version": 3
   },
   "file_extension": ".py",
   "mimetype": "text/x-python",
   "name": "python",
   "nbconvert_exporter": "python",
   "pygments_lexer": "ipython3",
   "version": "3.12.7"
  }
 },
 "nbformat": 4,
 "nbformat_minor": 5
}
