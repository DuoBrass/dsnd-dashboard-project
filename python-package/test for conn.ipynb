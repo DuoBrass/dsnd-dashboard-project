{
 "cells": [
  {
   "cell_type": "code",
   "execution_count": 5,
   "id": "12513b6a-d649-4dac-b881-d0689d4b76b7",
   "metadata": {},
   "outputs": [],
   "source": [
    "# The Python package opens a connection to the employee_events.db SQLite database\n",
    "\n",
    "import sqlite3\n",
    "from pathlib import Path\n",
    "\n",
    "def create_connection():\n",
    "    \"\"\"\n",
    "    This function opens a connection to the SQLite database and returns the connection object.\n",
    "    If the database file does not exist, it will be created.\n",
    "    \"\"\"\n",
    "    db_path = Path().resolve() / \"employee_events.db\"  # Absolute path to the database file\n",
    "    conn = sqlite3.connect(db_path)  # Opens a connection to the database\n",
    "    return conn"
   ]
  }
 ],
 "metadata": {
  "kernelspec": {
   "display_name": "Python [conda env:base] *",
   "language": "python",
   "name": "conda-base-py"
  },
  "language_info": {
   "codemirror_mode": {
    "name": "ipython",
    "version": 3
   },
   "file_extension": ".py",
   "mimetype": "text/x-python",
   "name": "python",
   "nbconvert_exporter": "python",
   "pygments_lexer": "ipython3",
   "version": "3.12.7"
  }
 },
 "nbformat": 4,
 "nbformat_minor": 5
}
